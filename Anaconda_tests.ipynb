{
 "cells": [
  {
   "cell_type": "code",
   "execution_count": null,
   "metadata": {},
   "outputs": [],
   "source": [
    "import os\n",
    "import boto3\n",
    "import pandas as pd\n",
    "from io import BytesIO\n",
    "from nexusadspy import AppnexusReport\n",
    "from datetime import date\n",
    "from nexusadspy import AppnexusClient\n",
    "client = AppnexusClient('.appnexus_auth.json')"
   ]
  },
  {
   "cell_type": "code",
   "execution_count": null,
   "metadata": {},
   "outputs": [],
   "source": [
    "def to_s3(bucket,filename,content):\n",
    "    client = boto3.client('s3')\n",
    "    k = folder+filename\n",
    "    client.put_object(Bucket=bucket, Key=k, Body=content)"
   ]
  },
  {
   "cell_type": "code",
   "execution_count": null,
   "metadata": {},
   "outputs": [],
   "source": [
    "## daily reports - everything is based on delivery so needs to be run daily.\n",
    "## e.g. advertiser exists but has not delivered in *30* days - will not appear if replace?\n",
    "\n",
    "dimensions = [\"advertiser\", \"campaign\", \"creative\", \"deal\", \"insertion_order\", \"line_item\", \"seller_member\", \"site\"]\n",
    "bucket = \"finecast-appnexus-lld\"\n",
    "\n",
    "## need to update dates when scheduling report\n",
    "start_date_input = '2018-09-01'\n",
    "end_date_input = str(date.today())\n",
    "\n",
    "for i in range(0,len(dimensions)):\n",
    "    columns = [dimensions[i]+\"_id\",\n",
    "               dimensions[i]+\"_name\"]\n",
    "\n",
    "    report_type = \"network_analytics\"\n",
    "\n",
    "    report = AppnexusReport(start_date=start_date_input,\n",
    "                            end_date=end_date_input,\n",
    "                            report_type=report_type,\n",
    "                            columns=columns)\n",
    "\n",
    "    data = report.get(format_='pandas')\n",
    "    \n",
    "    filename = dimensions[i]+\"_test.csv\"\n",
    "    folder = \"feeds/metadata_tables/\"+dimensions[i]+\"/\"\n",
    "\n",
    "    csv_buffer = BytesIO()\n",
    "    data.to_csv(csv_buffer, index = False)\n",
    "    content = csv_buffer.getvalue()\n",
    "    \n",
    "    to_s3(bucket,filename,content)\n",
    "    \n",
    "    print(dimensions[i]+\" done\")"
   ]
  },
  {
   "cell_type": "code",
   "execution_count": null,
   "metadata": {
    "scrolled": true
   },
   "outputs": [],
   "source": [
    "## check report type\n",
    "columns = [\"advertiser_id\",\n",
    "           \"advertiser_name\"]\n",
    "\n",
    "report_type = \"network_analytics\"\n",
    "\n",
    "report = AppnexusReport(start_date='2016-11-07',\n",
    "                          end_date='2016-11-08',\n",
    "                          report_type=report_type,\n",
    "                          columns=columns)\n",
    "output_json = report.get()\n",
    "check = report.get(format_='pandas')\n",
    "check"
   ]
  },
  {
   "cell_type": "code",
   "execution_count": null,
   "metadata": {},
   "outputs": [],
   "source": [
    "os.environ.get('USERNAME_NEXUSADSPY')"
   ]
  },
  {
   "cell_type": "code",
   "execution_count": null,
   "metadata": {
    "scrolled": true
   },
   "outputs": [],
   "source": [
    "## one time reports\n",
    "\n",
    "read_service_dimensions = [\"browser\", \"device-model\", \"media-subtype\", \"operating-system-extended\"]\n",
    "folder_name = [\"browser\", \"device_model\", \"media_subtype\", \"operating_system_extended\"]\n",
    "bucket = \"finecast-appnexus-lld\"\n",
    "\n",
    "for i in range(0,len(read_service_dimensions)):\n",
    "    r = client.request(read_service_dimensions[i], 'GET')\n",
    "    data = pd.DataFrame(r)\n",
    "    data = data.filter(items=['id', 'name'])\n",
    "    data.columns = [folder_name[i]+'_id', folder_name[i]+'_name']\n",
    "    \n",
    "    filename = read_service_dimensions[i]+\"_test.csv\"\n",
    "    folder = \"feeds/metadata_tables/\"+folder_name[i]+\"/\"\n",
    "\n",
    "    csv_buffer = BytesIO()\n",
    "    data.to_csv(csv_buffer, index = False)\n",
    "    content = csv_buffer.getvalue()\n",
    "    \n",
    "    to_s3(bucket,filename,content)\n",
    "    \n",
    "    print(read_service_dimensions[i]+\"done\")"
   ]
  },
  {
   "cell_type": "code",
   "execution_count": null,
   "metadata": {},
   "outputs": [],
   "source": [
    "## testing read services\n",
    "read_service_dimensions = ['carrier']\n",
    "r = client.request('carrier', 'GET')\n",
    "data = pd.DataFrame(r)\n",
    "data = data.filter(items=['id', 'name'])\n",
    "data.columns = [read_service_dimensions[0]+'_id', read_service_dimensions[0]+'_name']\n",
    "data"
   ]
  },
  {
   "cell_type": "code",
   "execution_count": null,
   "metadata": {
    "scrolled": true
   },
   "outputs": [],
   "source": [
    "## one time carrier report\n",
    "\n",
    "bucket = \"finecast-appnexus-lld\"\n",
    "\n",
    "r = client.request('carrier', 'GET')\n",
    "data = pd.DataFrame(r)\n",
    "data = data.loc[data['country_code']=='AU']\n",
    "data = data.filter(items=['id', 'name'])\n",
    "data.columns = ['carrier_id', 'carrier_name']\n",
    "    \n",
    "filename = \"carrier_test.csv\"\n",
    "folder = \"feeds/metadata_tables/carrier/\"\n",
    "\n",
    "csv_buffer = BytesIO()\n",
    "data.to_csv(csv_buffer, index = False)\n",
    "content = csv_buffer.getvalue()\n",
    "    \n",
    "to_s3(bucket,filename,content)"
   ]
  },
  {
   "cell_type": "code",
   "execution_count": null,
   "metadata": {},
   "outputs": [],
   "source": [
    "## one time city and dma report\n",
    "## this one is too slow - filter API request\n",
    "\n",
    "bucket = \"finecast-appnexus-lld\"\n",
    "\n",
    "r = client.request('city', 'GET')\n",
    "data = pd.DataFrame(r)\n",
    "data = data.loc[data['country_code']=='AU']\n",
    "data = data.filter(items=['id', 'name', 'dma_id', 'dma_name'])\n",
    "data.columns = ['city_id', 'city_name', 'dma_id', 'dma_name']\n",
    "    \n",
    "filename = \"city_dma_test.csv\"\n",
    "folder = \"feeds/metadata_tables/city/\"\n",
    "\n",
    "csv_buffer = BytesIO()\n",
    "data.to_csv(csv_buffer, index = False)\n",
    "content = csv_buffer.getvalue()\n",
    "    \n",
    "to_s3(bucket,filename,content)"
   ]
  },
  {
   "cell_type": "code",
   "execution_count": null,
   "metadata": {},
   "outputs": [],
   "source": [
    "## one time mobile_app instance report\n",
    "\n",
    "bucket = \"finecast-appnexus-lld\"\n",
    "\n",
    "r = client.request('mobile-app-instance', 'GET')\n",
    "data = pd.DataFrame(r)\n",
    "data = data.filter(items=['id', 'instance-bundle'])\n",
    "data.columns = ['mobile_app_instance_id', 'mobile_app_instance_name']\n",
    "\n",
    "filename = \"mobile_app_instance_test.csv\"\n",
    "folder = \"feeds/metadata_tables/mobile_app_instance/\"\n",
    "\n",
    "csv_buffer = BytesIO()\n",
    "data.to_csv(csv_buffer, index = False)\n",
    "content = csv_buffer.getvalue()\n",
    "    \n",
    "to_s3(bucket,filename,content)"
   ]
  }
 ],
 "metadata": {
  "kernelspec": {
   "display_name": "Python 2",
   "language": "python",
   "name": "python2"
  },
  "language_info": {
   "codemirror_mode": {
    "name": "ipython",
    "version": 2
   },
   "file_extension": ".py",
   "mimetype": "text/x-python",
   "name": "python",
   "nbconvert_exporter": "python",
   "pygments_lexer": "ipython2",
   "version": "2.7.14"
  }
 },
 "nbformat": 4,
 "nbformat_minor": 2
}
